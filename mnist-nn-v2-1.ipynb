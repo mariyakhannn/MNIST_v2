{
 "cells": [
  {
   "cell_type": "code",
   "execution_count": 1,
   "id": "f860f663",
   "metadata": {
    "_cell_guid": "b1076dfc-b9ad-4769-8c92-a6c4dae69d19",
    "_uuid": "8f2839f25d086af736a60e9eeb907d3b93b6e0e5",
    "execution": {
     "iopub.execute_input": "2025-03-04T05:48:07.059155Z",
     "iopub.status.busy": "2025-03-04T05:48:07.058740Z",
     "iopub.status.idle": "2025-03-04T05:48:11.505700Z",
     "shell.execute_reply": "2025-03-04T05:48:11.504495Z"
    },
    "papermill": {
     "duration": 4.453452,
     "end_time": "2025-03-04T05:48:11.507611",
     "exception": false,
     "start_time": "2025-03-04T05:48:07.054159",
     "status": "completed"
    },
    "tags": []
   },
   "outputs": [],
   "source": [
    "import numpy as np\n",
    "import pandas as pd\n",
    "from matplotlib import pyplot as plt\n",
    "\n",
    "data = pd.read_csv('/kaggle/input/digit-recognizer/train.csv')"
   ]
  },
  {
   "cell_type": "code",
   "execution_count": 2,
   "id": "95a305f8",
   "metadata": {
    "execution": {
     "iopub.execute_input": "2025-03-04T05:48:11.514716Z",
     "iopub.status.busy": "2025-03-04T05:48:11.514304Z",
     "iopub.status.idle": "2025-03-04T05:48:12.318528Z",
     "shell.execute_reply": "2025-03-04T05:48:12.317645Z"
    },
    "papermill": {
     "duration": 0.809765,
     "end_time": "2025-03-04T05:48:12.320468",
     "exception": false,
     "start_time": "2025-03-04T05:48:11.510703",
     "status": "completed"
    },
    "tags": []
   },
   "outputs": [],
   "source": [
    "data = np.array(data)\n",
    "m, n = data.shape\n",
    "np.random.shuffle(data) # shuffle before splitting into dev and training sets\n",
    "\n",
    "data_dev = data[0:1000].T\n",
    "Y_dev = data_dev[0]\n",
    "X_dev = data_dev[1:n]\n",
    "X_dev = X_dev / 255.\n",
    "\n",
    "data_train = data[1000:m].T\n",
    "Y_train = data_train[0]\n",
    "X_train = data_train[1:n]\n",
    "X_train = X_train / 255.\n",
    "_,m_train = X_train.shape"
   ]
  },
  {
   "cell_type": "code",
   "execution_count": 3,
   "id": "9b35a525",
   "metadata": {
    "execution": {
     "iopub.execute_input": "2025-03-04T05:48:12.328294Z",
     "iopub.status.busy": "2025-03-04T05:48:12.327946Z",
     "iopub.status.idle": "2025-03-04T05:48:12.335197Z",
     "shell.execute_reply": "2025-03-04T05:48:12.334192Z"
    },
    "papermill": {
     "duration": 0.012913,
     "end_time": "2025-03-04T05:48:12.336802",
     "exception": false,
     "start_time": "2025-03-04T05:48:12.323889",
     "status": "completed"
    },
    "tags": []
   },
   "outputs": [
    {
     "data": {
      "text/plain": [
       "array([7, 9, 6, ..., 1, 3, 9])"
      ]
     },
     "execution_count": 3,
     "metadata": {},
     "output_type": "execute_result"
    }
   ],
   "source": [
    "Y_train"
   ]
  },
  {
   "cell_type": "code",
   "execution_count": 4,
   "id": "cba6a2e0",
   "metadata": {
    "execution": {
     "iopub.execute_input": "2025-03-04T05:48:12.343522Z",
     "iopub.status.busy": "2025-03-04T05:48:12.343195Z",
     "iopub.status.idle": "2025-03-04T05:48:12.353068Z",
     "shell.execute_reply": "2025-03-04T05:48:12.351997Z"
    },
    "papermill": {
     "duration": 0.014952,
     "end_time": "2025-03-04T05:48:12.354645",
     "exception": false,
     "start_time": "2025-03-04T05:48:12.339693",
     "status": "completed"
    },
    "tags": []
   },
   "outputs": [],
   "source": [
    "def init_params():\n",
    "    W1 = np.random.rand(10, 784) - 0.5\n",
    "    b1 = np.random.rand(10, 1) - 0.5\n",
    "    W2 = np.random.rand(10, 10) - 0.5\n",
    "    b2 = np.random.rand(10, 1) - 0.5\n",
    "    return W1, b1, W2, b2\n",
    "\n",
    "def ReLU(Z):\n",
    "    return np.maximum(Z, 0)\n",
    "\n",
    "def softmax(Z):\n",
    "    A = np.exp(Z) / sum(np.exp(Z))\n",
    "    return A\n",
    "    \n",
    "def forward_prop(W1, b1, W2, b2, X):\n",
    "    Z1 = W1.dot(X) + b1\n",
    "    A1 = ReLU(Z1)\n",
    "    Z2 = W2.dot(A1) + b2\n",
    "    A2 = softmax(Z2)\n",
    "    return Z1, A1, Z2, A2\n",
    "\n",
    "def ReLU_deriv(Z):\n",
    "    return Z > 0\n",
    "\n",
    "def one_hot(Y):\n",
    "    one_hot_Y = np.zeros((Y.size, Y.max() + 1))\n",
    "    one_hot_Y[np.arange(Y.size), Y] = 1\n",
    "    one_hot_Y = one_hot_Y.T\n",
    "    return one_hot_Y\n",
    "\n",
    "def backward_prop(Z1, A1, Z2, A2, W1, W2, X, Y):\n",
    "    one_hot_Y = one_hot(Y)\n",
    "    dZ2 = A2 - one_hot_Y\n",
    "    dW2 = 1 / m * dZ2.dot(A1.T)\n",
    "    db2 = 1 / m * np.sum(dZ2)\n",
    "    dZ1 = W2.T.dot(dZ2) * ReLU_deriv(Z1)\n",
    "    dW1 = 1 / m * dZ1.dot(X.T)\n",
    "    db1 = 1 / m * np.sum(dZ1)\n",
    "    return dW1, db1, dW2, db2\n",
    "\n",
    "def update_params(W1, b1, W2, b2, dW1, db1, dW2, db2, alpha):\n",
    "    W1 = W1 - alpha * dW1\n",
    "    b1 = b1 - alpha * db1    \n",
    "    W2 = W2 - alpha * dW2  \n",
    "    b2 = b2 - alpha * db2    \n",
    "    return W1, b1, W2, b2"
   ]
  },
  {
   "cell_type": "code",
   "execution_count": 5,
   "id": "d29bc9bf",
   "metadata": {
    "execution": {
     "iopub.execute_input": "2025-03-04T05:48:12.361197Z",
     "iopub.status.busy": "2025-03-04T05:48:12.360832Z",
     "iopub.status.idle": "2025-03-04T05:48:12.367578Z",
     "shell.execute_reply": "2025-03-04T05:48:12.366445Z"
    },
    "papermill": {
     "duration": 0.011838,
     "end_time": "2025-03-04T05:48:12.369233",
     "exception": false,
     "start_time": "2025-03-04T05:48:12.357395",
     "status": "completed"
    },
    "tags": []
   },
   "outputs": [],
   "source": [
    "def get_predictions(A2):\n",
    "    return np.argmax(A2, 0)\n",
    "\n",
    "def get_accuracy(predictions, Y):\n",
    "    print(predictions, Y)\n",
    "    return np.sum(predictions == Y) / Y.size\n",
    "\n",
    "def gradient_descent(X, Y, alpha, iterations):\n",
    "    W1, b1, W2, b2 = init_params()\n",
    "    for i in range(iterations):\n",
    "        Z1, A1, Z2, A2 = forward_prop(W1, b1, W2, b2, X)\n",
    "        dW1, db1, dW2, db2 = backward_prop(Z1, A1, Z2, A2, W1, W2, X, Y)\n",
    "        W1, b1, W2, b2 = update_params(W1, b1, W2, b2, dW1, db1, dW2, db2, alpha)\n",
    "        if i % 10 == 0:\n",
    "            print(\"Iteration: \", i)\n",
    "            predictions = get_predictions(A2)\n",
    "            print(get_accuracy(predictions, Y))\n",
    "    return W1, b1, W2, b2"
   ]
  },
  {
   "cell_type": "code",
   "execution_count": 6,
   "id": "bfc0e0a9",
   "metadata": {
    "execution": {
     "iopub.execute_input": "2025-03-04T05:48:12.376074Z",
     "iopub.status.busy": "2025-03-04T05:48:12.375634Z",
     "iopub.status.idle": "2025-03-04T05:48:49.882528Z",
     "shell.execute_reply": "2025-03-04T05:48:49.881327Z"
    },
    "papermill": {
     "duration": 37.512524,
     "end_time": "2025-03-04T05:48:49.884556",
     "exception": false,
     "start_time": "2025-03-04T05:48:12.372032",
     "status": "completed"
    },
    "tags": []
   },
   "outputs": [
    {
     "name": "stdout",
     "output_type": "stream",
     "text": [
      "Iteration:  0\n",
      "[2 2 2 ... 4 2 2] [7 9 6 ... 1 3 9]\n",
      "0.1053170731707317\n",
      "Iteration:  10\n",
      "[7 7 6 ... 4 3 5] [7 9 6 ... 1 3 9]\n",
      "0.15090243902439024\n",
      "Iteration:  20\n",
      "[7 7 6 ... 4 3 9] [7 9 6 ... 1 3 9]\n",
      "0.20909756097560975\n",
      "Iteration:  30\n",
      "[7 7 6 ... 4 3 9] [7 9 6 ... 1 3 9]\n",
      "0.2789268292682927\n",
      "Iteration:  40\n",
      "[7 9 6 ... 4 3 9] [7 9 6 ... 1 3 9]\n",
      "0.3536341463414634\n",
      "Iteration:  50\n",
      "[7 9 6 ... 1 3 9] [7 9 6 ... 1 3 9]\n",
      "0.42148780487804877\n",
      "Iteration:  60\n",
      "[7 9 6 ... 1 3 0] [7 9 6 ... 1 3 9]\n",
      "0.46831707317073173\n",
      "Iteration:  70\n",
      "[7 9 6 ... 1 3 5] [7 9 6 ... 1 3 9]\n",
      "0.5056829268292683\n",
      "Iteration:  80\n",
      "[7 9 6 ... 1 3 5] [7 9 6 ... 1 3 9]\n",
      "0.5358536585365854\n",
      "Iteration:  90\n",
      "[7 9 6 ... 1 3 5] [7 9 6 ... 1 3 9]\n",
      "0.5617804878048781\n",
      "Iteration:  100\n",
      "[7 9 6 ... 1 3 5] [7 9 6 ... 1 3 9]\n",
      "0.5848292682926829\n",
      "Iteration:  110\n",
      "[7 9 6 ... 1 3 6] [7 9 6 ... 1 3 9]\n",
      "0.6059268292682927\n",
      "Iteration:  120\n",
      "[7 9 6 ... 1 3 6] [7 9 6 ... 1 3 9]\n",
      "0.6260487804878049\n",
      "Iteration:  130\n",
      "[7 4 6 ... 1 3 6] [7 9 6 ... 1 3 9]\n",
      "0.6441707317073171\n",
      "Iteration:  140\n",
      "[7 4 6 ... 1 3 6] [7 9 6 ... 1 3 9]\n",
      "0.6599512195121952\n",
      "Iteration:  150\n",
      "[7 4 6 ... 1 3 6] [7 9 6 ... 1 3 9]\n",
      "0.6751707317073171\n",
      "Iteration:  160\n",
      "[7 4 6 ... 1 3 6] [7 9 6 ... 1 3 9]\n",
      "0.6886341463414634\n",
      "Iteration:  170\n",
      "[7 4 6 ... 1 3 6] [7 9 6 ... 1 3 9]\n",
      "0.700780487804878\n",
      "Iteration:  180\n",
      "[7 4 6 ... 1 3 4] [7 9 6 ... 1 3 9]\n",
      "0.7126341463414634\n",
      "Iteration:  190\n",
      "[7 4 6 ... 1 3 4] [7 9 6 ... 1 3 9]\n",
      "0.7234634146341463\n",
      "Iteration:  200\n",
      "[7 4 6 ... 1 3 4] [7 9 6 ... 1 3 9]\n",
      "0.7335121951219512\n",
      "Iteration:  210\n",
      "[7 4 6 ... 1 3 4] [7 9 6 ... 1 3 9]\n",
      "0.7424878048780488\n",
      "Iteration:  220\n",
      "[7 4 6 ... 1 3 4] [7 9 6 ... 1 3 9]\n",
      "0.7518292682926829\n",
      "Iteration:  230\n",
      "[7 4 6 ... 1 3 4] [7 9 6 ... 1 3 9]\n",
      "0.7585853658536585\n",
      "Iteration:  240\n",
      "[7 4 6 ... 1 3 4] [7 9 6 ... 1 3 9]\n",
      "0.7657560975609756\n",
      "Iteration:  250\n",
      "[7 4 6 ... 1 3 4] [7 9 6 ... 1 3 9]\n",
      "0.7711707317073171\n",
      "Iteration:  260\n",
      "[7 4 6 ... 1 3 4] [7 9 6 ... 1 3 9]\n",
      "0.7770975609756098\n",
      "Iteration:  270\n",
      "[7 4 6 ... 1 3 4] [7 9 6 ... 1 3 9]\n",
      "0.7823658536585366\n",
      "Iteration:  280\n",
      "[7 7 6 ... 1 3 4] [7 9 6 ... 1 3 9]\n",
      "0.7873902439024391\n",
      "Iteration:  290\n",
      "[7 7 6 ... 1 3 4] [7 9 6 ... 1 3 9]\n",
      "0.7917804878048781\n",
      "Iteration:  300\n",
      "[7 7 6 ... 1 3 4] [7 9 6 ... 1 3 9]\n",
      "0.7958536585365854\n",
      "Iteration:  310\n",
      "[7 7 6 ... 1 3 4] [7 9 6 ... 1 3 9]\n",
      "0.7993658536585366\n",
      "Iteration:  320\n",
      "[7 7 6 ... 1 3 4] [7 9 6 ... 1 3 9]\n",
      "0.8029512195121952\n",
      "Iteration:  330\n",
      "[7 7 6 ... 1 3 4] [7 9 6 ... 1 3 9]\n",
      "0.8066585365853659\n",
      "Iteration:  340\n",
      "[7 9 6 ... 1 3 4] [7 9 6 ... 1 3 9]\n",
      "0.810219512195122\n",
      "Iteration:  350\n",
      "[7 9 6 ... 1 3 4] [7 9 6 ... 1 3 9]\n",
      "0.8132195121951219\n",
      "Iteration:  360\n",
      "[7 9 6 ... 1 3 4] [7 9 6 ... 1 3 9]\n",
      "0.8159268292682926\n",
      "Iteration:  370\n",
      "[7 9 6 ... 1 3 4] [7 9 6 ... 1 3 9]\n",
      "0.8188048780487804\n",
      "Iteration:  380\n",
      "[7 9 6 ... 1 3 4] [7 9 6 ... 1 3 9]\n",
      "0.8218048780487804\n",
      "Iteration:  390\n",
      "[7 9 6 ... 1 3 4] [7 9 6 ... 1 3 9]\n",
      "0.824170731707317\n",
      "Iteration:  400\n",
      "[7 9 6 ... 1 3 4] [7 9 6 ... 1 3 9]\n",
      "0.8264878048780487\n",
      "Iteration:  410\n",
      "[7 9 6 ... 1 3 4] [7 9 6 ... 1 3 9]\n",
      "0.8288292682926829\n",
      "Iteration:  420\n",
      "[7 9 6 ... 1 3 4] [7 9 6 ... 1 3 9]\n",
      "0.8307317073170731\n",
      "Iteration:  430\n",
      "[7 9 6 ... 1 3 4] [7 9 6 ... 1 3 9]\n",
      "0.8325853658536585\n",
      "Iteration:  440\n",
      "[7 9 6 ... 1 3 4] [7 9 6 ... 1 3 9]\n",
      "0.834390243902439\n",
      "Iteration:  450\n",
      "[7 9 6 ... 1 3 4] [7 9 6 ... 1 3 9]\n",
      "0.8362682926829268\n",
      "Iteration:  460\n",
      "[7 9 6 ... 1 3 4] [7 9 6 ... 1 3 9]\n",
      "0.8380731707317073\n",
      "Iteration:  470\n",
      "[7 9 6 ... 1 3 4] [7 9 6 ... 1 3 9]\n",
      "0.8394390243902439\n",
      "Iteration:  480\n",
      "[7 9 6 ... 1 3 4] [7 9 6 ... 1 3 9]\n",
      "0.8409512195121951\n",
      "Iteration:  490\n",
      "[7 9 6 ... 1 3 4] [7 9 6 ... 1 3 9]\n",
      "0.8420243902439024\n"
     ]
    }
   ],
   "source": [
    "W1, b1, W2, b2 = gradient_descent(X_train, Y_train, 0.10, 500)"
   ]
  },
  {
   "cell_type": "code",
   "execution_count": 7,
   "id": "4438aecb",
   "metadata": {
    "execution": {
     "iopub.execute_input": "2025-03-04T05:48:49.897407Z",
     "iopub.status.busy": "2025-03-04T05:48:49.897036Z",
     "iopub.status.idle": "2025-03-04T05:48:49.903230Z",
     "shell.execute_reply": "2025-03-04T05:48:49.902156Z"
    },
    "papermill": {
     "duration": 0.01423,
     "end_time": "2025-03-04T05:48:49.904859",
     "exception": false,
     "start_time": "2025-03-04T05:48:49.890629",
     "status": "completed"
    },
    "tags": []
   },
   "outputs": [],
   "source": [
    "def make_predictions(X, W1, b1, W2, b2):\n",
    "    _, _, _, A2 = forward_prop(W1, b1, W2, b2, X)\n",
    "    predictions = get_predictions(A2)\n",
    "    return predictions\n",
    "\n",
    "def test_prediction(index, W1, b1, W2, b2):\n",
    "    current_image = X_train[:, index, None]\n",
    "    prediction = make_predictions(X_train[:, index, None], W1, b1, W2, b2)\n",
    "    label = Y_train[index]\n",
    "    print(\"Prediction: \", prediction)\n",
    "    print(\"Label: \", label)\n",
    "    \n",
    "    current_image = current_image.reshape((28, 28)) * 255\n",
    "    plt.gray()\n",
    "    plt.imshow(current_image, interpolation='nearest')\n",
    "    plt.show()"
   ]
  },
  {
   "cell_type": "code",
   "execution_count": 8,
   "id": "cd7dcc47",
   "metadata": {
    "execution": {
     "iopub.execute_input": "2025-03-04T05:48:49.917294Z",
     "iopub.status.busy": "2025-03-04T05:48:49.916894Z",
     "iopub.status.idle": "2025-03-04T05:48:50.592692Z",
     "shell.execute_reply": "2025-03-04T05:48:50.591598Z"
    },
    "papermill": {
     "duration": 0.684003,
     "end_time": "2025-03-04T05:48:50.594522",
     "exception": false,
     "start_time": "2025-03-04T05:48:49.910519",
     "status": "completed"
    },
    "tags": []
   },
   "outputs": [
    {
     "name": "stdout",
     "output_type": "stream",
     "text": [
      "Prediction:  [7]\n",
      "Label:  7\n"
     ]
    },
    {
     "data": {
      "image/png": "[encoded data removed]",
      "text/plain": [
       "<Figure size 640x480 with 1 Axes>"
      ]
     },
     "metadata": {},
     "output_type": "display_data"
    },
    {
     "name": "stdout",
     "output_type": "stream",
     "text": [
      "Prediction:  [9]\n",
      "Label:  9\n"
     ]
    },
    {
     "data": {
      "image/png": "[encoded data removed]",
      "text/plain": [
       "<Figure size 640x480 with 1 Axes>"
      ]
     },
     "metadata": {},
     "output_type": "display_data"
    },
    {
     "name": "stdout",
     "output_type": "stream",
     "text": [
      "Prediction:  [6]\n",
      "Label:  6\n"
     ]
    },
    {
     "data": {
      "image/png": "[encoded data removed]",
      "text/plain": [
       "<Figure size 640x480 with 1 Axes>"
      ]
     },
     "metadata": {},
     "output_type": "display_data"
    },
    {
     "name": "stdout",
     "output_type": "stream",
     "text": [
      "Prediction:  [1]\n",
      "Label:  1\n"
     ]
    },
    {
     "data": {
      "image/png": "[encoded data removed]",
      "text/plain": [
       "<Figure size 640x480 with 1 Axes>"
      ]
     },
     "metadata": {},
     "output_type": "display_data"
    }
   ],
   "source": [
    "test_prediction(0, W1, b1, W2, b2)\n",
    "test_prediction(1, W1, b1, W2, b2)\n",
    "test_prediction(2, W1, b1, W2, b2)\n",
    "test_prediction(3, W1, b1, W2, b2)"
   ]
  }
 ],
 "metadata": {
  "kaggle": {
   "accelerator": "none",
   "dataSources": [
    {
     "databundleVersionId": 861823,
     "sourceId": 3004,
     "sourceType": "competition"
    }
   ],
   "dockerImageVersionId": 30918,
   "isGpuEnabled": false,
   "isInternetEnabled": false,
   "language": "python",
   "sourceType": "notebook"
  },
  "kernelspec": {
   "display_name": "Python 3",
   "language": "python",
   "name": "python3"
  },
  "language_info": {
   "codemirror_mode": {
    "name": "ipython",
    "version": 3
   },
   "file_extension": ".py",
   "mimetype": "text/x-python",
   "name": "python",
   "nbconvert_exporter": "python",
   "pygments_lexer": "ipython3",
   "version": "3.10.12"
  },
  "papermill": {
   "default_parameters": {},
   "duration": 47.087341,
   "end_time": "2025-03-04T05:48:51.221830",
   "environment_variables": {},
   "exception": null,
   "input_path": "__notebook__.ipynb",
   "output_path": "__notebook__.ipynb",
   "parameters": {},
   "start_time": "2025-03-04T05:48:04.134489",
   "version": "2.6.0"
  }
 },
 "nbformat": 4,
 "nbformat_minor": 5
}
